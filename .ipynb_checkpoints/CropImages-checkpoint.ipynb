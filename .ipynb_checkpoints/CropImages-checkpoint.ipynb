{
 "cells": [
  {
   "cell_type": "code",
   "execution_count": 4,
   "id": "89573290-e2bb-4c0d-8086-61bd60ae1bb9",
   "metadata": {},
   "outputs": [],
   "source": [
    "from PIL import Image\n",
    "import numpy as np\n",
    "import matplotlib.pyplot as plt\n",
    "import os"
   ]
  },
  {
   "cell_type": "code",
   "execution_count": 11,
   "id": "c487de24-fc0b-4a4e-bed4-eb725de71464",
   "metadata": {},
   "outputs": [],
   "source": [
    "crop_amount = 55\n",
    "def with_png(filename):\n",
    "    return filename + '.png'\n",
    "def crop_img(filename):\n",
    "    im = Image.open(with_png(filename))\n",
    "    width, height = im.size\n",
    "    im1 = im.crop((crop_amount, crop_amount, width-crop_amount, height-crop_amount))\n",
    "    filename = filename.replace(\"output\",\"cropped\")\n",
    "    print(filename)\n",
    "    im1.save(with_png(filename))\n",
    "    return filename"
   ]
  },
  {
   "cell_type": "code",
   "execution_count": 13,
   "id": "28300aa6-c8e3-45b3-ad2b-e9b9ddaa7ecf",
   "metadata": {},
   "outputs": [
    {
     "name": "stdout",
     "output_type": "stream",
     "text": [
      "cropped/screenshot_0_0\n",
      "cropped/screenshot_0_0cropped\n",
      "cropped/screenshot_0_1\n",
      "cropped/screenshot_0_1cropped\n",
      "cropped/screenshot_0_2\n",
      "cropped/screenshot_0_2cropped\n",
      "cropped/screenshot_0_3\n",
      "cropped/screenshot_0_3cropped\n",
      "cropped/screenshot_0_4\n",
      "cropped/screenshot_0_4cropped\n",
      "cropped/screenshot_0_5\n",
      "cropped/screenshot_1_0\n",
      "cropped/screenshot_1_1\n",
      "cropped/screenshot_1_2\n",
      "cropped/screenshot_1_3\n",
      "cropped/screenshot_1_4\n",
      "cropped/screenshot_1_5\n",
      "cropped/screenshot_2_0\n",
      "cropped/screenshot_2_1\n",
      "cropped/screenshot_2_2\n",
      "cropped/screenshot_2_3\n",
      "cropped/screenshot_2_4\n",
      "cropped/screenshot_2_5\n",
      "cropped/screenshot_3_0\n",
      "cropped/screenshot_3_1\n",
      "cropped/screenshot_3_2\n",
      "cropped/screenshot_3_3\n",
      "cropped/screenshot_3_4\n",
      "cropped/screenshot_3_5\n",
      "cropped/screenshot_4_0\n",
      "cropped/screenshot_4_1\n",
      "cropped/screenshot_4_2\n",
      "cropped/screenshot_4_3\n",
      "cropped/screenshot_4_4\n",
      "cropped/screenshot_4_5\n",
      "cropped/screenshot_5_0\n",
      "cropped/screenshot_5_1\n",
      "cropped/screenshot_5_2\n",
      "cropped/screenshot_5_3\n",
      "cropped/screenshot_5_4\n",
      "cropped/screenshot_5_5\n",
      "cropped/screenshot_6_0\n",
      "cropped/screenshot_6_1\n",
      "cropped/screenshot_6_2\n",
      "cropped/screenshot_6_3\n",
      "cropped/screenshot_6_4\n",
      "cropped/screenshot_6_5\n",
      "cropped/screenshot_7_0\n",
      "cropped/screenshot_7_1\n",
      "cropped/screenshot_7_2\n",
      "cropped/screenshot_7_3\n",
      "cropped/screenshot_7_4\n",
      "cropped/screenshot_7_5\n"
     ]
    }
   ],
   "source": [
    "for filename in os.listdir('output'):\n",
    "    if 'png' in filename:\n",
    "        filename = filename.replace('.png','')\n",
    "        crop_img('output/'+filename)"
   ]
  },
  {
   "cell_type": "code",
   "execution_count": null,
   "id": "33c6ab88-42c0-41c7-aade-afb1986f8a43",
   "metadata": {},
   "outputs": [],
   "source": []
  }
 ],
 "metadata": {
  "kernelspec": {
   "display_name": "Python 3 (ipykernel)",
   "language": "python",
   "name": "python3"
  },
  "language_info": {
   "codemirror_mode": {
    "name": "ipython",
    "version": 3
   },
   "file_extension": ".py",
   "mimetype": "text/x-python",
   "name": "python",
   "nbconvert_exporter": "python",
   "pygments_lexer": "ipython3",
   "version": "3.10.5"
  }
 },
 "nbformat": 4,
 "nbformat_minor": 5
}
