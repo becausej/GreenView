{
 "cells": [
  {
   "cell_type": "code",
   "execution_count": 393,
   "id": "bcf6b4a6-877a-441d-abd9-e1e76281613f",
   "metadata": {},
   "outputs": [],
   "source": [
    "from PIL import Image\n",
    "import numpy as np\n",
    "import matplotlib.pyplot as plt"
   ]
  },
  {
   "cell_type": "code",
   "execution_count": 428,
   "id": "99893dff-d2ab-4105-836f-87f0ba3eec25",
   "metadata": {},
   "outputs": [],
   "source": [
    "def green(img):\n",
    "    shape = np.shape(img)\n",
    "    return np.count_nonzero(img==255)/(shape[0]*shape[1])\n",
    "def show_images(im,huesat_mask,save_outputs,filename):\n",
    "    figwidth, figheight = plt.rcParams[\"figure.figsize\"]\n",
    "    fig, axes = plt.subplots(1, 2, figsize=(2 * figwidth, 1*figheight))\n",
    "    \n",
    "    axes[0].imshow(im)\n",
    "    axes[1].imshow(huesat_mask)\n",
    "    if save_outputs:\n",
    "        fig.savefig(f'green_plots/{filename}.png')\n",
    "        plt.close()"
   ]
  },
  {
   "cell_type": "code",
   "execution_count": 429,
   "id": "85055b0a-f43e-4592-a818-c2032e38743d",
   "metadata": {},
   "outputs": [],
   "source": [
    "def one_img(filename,min_hue=40,max_hue=70,sat_min=0.2,min_val = 20,save_outputs=False,display=False):\n",
    "    read_from = f'Cropped/{filename}.png'\n",
    "    \n",
    "    im = Image.open(read_from).convert('HSV')\n",
    "    Hue = np.array(im.getchannel('H'))\n",
    "    rgb = Image.open(read_from).convert('RGB')\n",
    "    a = np.asarray(rgb, int)\n",
    "    \n",
    "    m = np.min(a,2).T\n",
    "    M = np.max(a,2).T\n",
    "    C = M - m\n",
    "    Cmsk = C != 0\n",
    "    V = M\n",
    "    S = np.zeros_like(Hue, float).T\n",
    "    S[Cmsk] = ((C[Cmsk]) / V[Cmsk])\n",
    "    \n",
    "    huesat_mask = np.zeros_like(Hue, dtype=np.uint8) \n",
    "    huesat_mask[(Hue>min_hue) & (Hue<max_hue) & (S.T > sat_min)& (V.T > min_val)] = 255\n",
    "    \n",
    "    if display or save_outputs:\n",
    "        show_images(im,huesat_mask,save_outputs,filename)\n",
    "    \n",
    "    return green(huesat_mask)\n",
    "    \n",
    "def graph_it_all(filename,min_hue=40,max_hue=70,sat_min=0.2,min_val=20,save_outputs=False,test_mode=False,display_col=0):\n",
    "    arr = []\n",
    "    r = 8\n",
    "    c = 6\n",
    "    for x in range(r):\n",
    "        tmp = []\n",
    "        for y in range(c):\n",
    "            if x==display_col and test_mode == True:\n",
    "                tmp.append(one_img(f'{filename}_{x}_{y}',min_hue,max_hue,sat_min,min_val,save_outputs,display=True))\n",
    "            else:\n",
    "                tmp.append(one_img(f'{filename}_{x}_{y}',min_hue,max_hue,sat_min,min_val,save_outputs,display=False))\n",
    "        arr.append(tmp)\n",
    "    return arr"
   ]
  },
  {
   "cell_type": "code",
   "execution_count": 430,
   "id": "90ac57d3-ddc2-403c-a0d1-a82f9078b69c",
   "metadata": {},
   "outputs": [],
   "source": [
    "test = graph_it_all(\"screenshot\",save_outputs=True,test_mode=True,display_col=0)"
   ]
  },
  {
   "cell_type": "code",
   "execution_count": 367,
   "id": "1467ecf7-acca-4bb7-b1f3-b4fef7b5223d",
   "metadata": {},
   "outputs": [],
   "source": [
    "np.savetxt(\"GreenPercentagesBoston/grid_scores.csv\", test, delimiter=\",\")"
   ]
  }
 ],
 "metadata": {
  "kernelspec": {
   "display_name": "Python 3 (ipykernel)",
   "language": "python",
   "name": "python3"
  },
  "language_info": {
   "codemirror_mode": {
    "name": "ipython",
    "version": 3
   },
   "file_extension": ".py",
   "mimetype": "text/x-python",
   "name": "python",
   "nbconvert_exporter": "python",
   "pygments_lexer": "ipython3",
   "version": "3.10.5"
  }
 },
 "nbformat": 4,
 "nbformat_minor": 5
}
